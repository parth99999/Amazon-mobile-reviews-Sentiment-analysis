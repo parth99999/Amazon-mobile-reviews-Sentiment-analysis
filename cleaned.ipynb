{
 "cells": [
  {
   "cell_type": "code",
   "execution_count": 5,
   "metadata": {},
   "outputs": [],
   "source": [
    "from nltk.tokenize import RegexpTokenizer\n",
    "from nltk.stem.porter import PorterStemmer\n",
    "from nltk.corpus import stopwords"
   ]
  },
  {
   "cell_type": "code",
   "execution_count": 6,
   "metadata": {},
   "outputs": [],
   "source": [
    "tokenizer=RegexpTokenizer(r'\\w+')\n",
    "eng_stopwords=set(stopwords.words('english'))\n",
    "ps=PorterStemmer()"
   ]
  },
  {
   "cell_type": "code",
   "execution_count": 7,
   "metadata": {},
   "outputs": [],
   "source": [
    "def getCleanreview(review):\n",
    "        review = review.lower()\n",
    "        review=review.replace(\"<br /><br />\",\"\")\n",
    "        review=review.replace(\",\",\"\")\n",
    "       \n",
    "        review=review.replace(\"http://video.google.com/videoplay?docid=211772166650071408&hl=en\",\"\")\n",
    "        tokens=tokenizer.tokenize(review)\n",
    "        new_tokens=[token for token in tokens if token not in eng_stopwords]\n",
    "        stemmed_tokens=[ps.stem(token) for token in new_tokens]\n",
    "        cleaned_review= ' '.join(stemmed_tokens)\n",
    "        return cleaned_review"
   ]
  },
  {
   "cell_type": "code",
   "execution_count": null,
   "metadata": {},
   "outputs": [],
   "source": []
  }
 ],
 "metadata": {
  "kernelspec": {
   "display_name": "Python 3",
   "language": "python",
   "name": "python3"
  },
  "language_info": {
   "codemirror_mode": {
    "name": "ipython",
    "version": 3
   },
   "file_extension": ".py",
   "mimetype": "text/x-python",
   "name": "python",
   "nbconvert_exporter": "python",
   "pygments_lexer": "ipython3",
   "version": "3.7.3"
  }
 },
 "nbformat": 4,
 "nbformat_minor": 2
}
